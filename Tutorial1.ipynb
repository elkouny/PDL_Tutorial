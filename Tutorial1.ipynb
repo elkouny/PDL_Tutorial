{
 "cells": [
  {
   "cell_type": "markdown",
   "id": "fbf7bc6713029a52",
   "metadata": {},
   "source": [
    "First we need to load the blockchain file\n"
   ]
  },
  {
   "cell_type": "code",
   "id": "2ecadb4a8782f34d",
   "metadata": {
    "ExecuteTime": {
     "end_time": "2024-10-19T12:14:51.972395Z",
     "start_time": "2024-10-19T12:14:51.968143Z"
    }
   },
   "source": [
    "import json\n",
    "from typing import TypedDict, List\n",
    "\n",
    "class BlockHeader(TypedDict):\n",
    "    difficulty: int\n",
    "    height: int\n",
    "    miner: str\n",
    "    nonce: int\n",
    "    hash: str\n",
    "    previous_block_header_hash: str\n",
    "    timestamp: int\n",
    "    transactions_count: int\n",
    "    transactions_merkle_root: str\n",
    "    \n",
    "class Transaction(TypedDict):\n",
    "    amount: int\n",
    "    lock_time: int\n",
    "    receiver: str\n",
    "    sender: str\n",
    "    signature: str\n",
    "    transaction_fee: int \n",
    "    \n",
    "class Block(TypedDict):\n",
    "    header: BlockHeader\n",
    "    transactions: List[Transaction]\n",
    "\n",
    "    "
   ],
   "outputs": [],
   "execution_count": 2
  },
  {
   "cell_type": "code",
   "id": "7ce4a71f43738251",
   "metadata": {
    "ExecuteTime": {
     "end_time": "2024-10-19T12:14:52.010104Z",
     "start_time": "2024-10-19T12:14:51.975010Z"
    }
   },
   "source": [
    "blockchain_path = \"data/blockchain.json\"\n",
    "with open(blockchain_path) as file:\n",
    "   blocks : List[Block] = json.load(file)"
   ],
   "outputs": [],
   "execution_count": 3
  },
  {
   "cell_type": "markdown",
   "id": "b06615e5b16b9353",
   "metadata": {},
   "source": [
    "We can test by printing the first header\n"
   ]
  },
  {
   "cell_type": "code",
   "id": "d4cfdd84204f44dd",
   "metadata": {
    "ExecuteTime": {
     "end_time": "2024-10-19T12:14:52.014730Z",
     "start_time": "2024-10-19T12:14:52.011943Z"
    }
   },
   "source": [
    "    \n",
    "print(\"----- Header -------\")\n",
    "print(blocks[0])\n",
    "print(\"----- Transactions ---\")\n",
    "print(blocks[0][\"transactions\"])"
   ],
   "outputs": [
    {
     "name": "stdout",
     "output_type": "stream",
     "text": [
      "----- Header -------\n",
      "{'header': {'difficulty': 0, 'height': 0, 'miner': '0x0000000000000000000000000000000000000000', 'nonce': 0, 'hash': '0x9b714c0ae0b7d89a191c48e17e8f22db6926bb5abbce0bde658e8ee608d9861c', 'previous_block_header_hash': '0x0000000000000000000000000000000000000000000000000000000000000000', 'timestamp': 1697412600, 'transactions_count': 20, 'transactions_merkle_root': '0x0184e0b8556c2842399d3e6bcf8ff40f5d5d41a82f7e7e00e5f0a347f240dbdc'}, 'transactions': [{'amount': 22979000000, 'lock_time': 0, 'receiver': '0x1eb9f48d89a8c9313b6739cbe05f8c6aabae1c2a', 'sender': '0x0000000000000000000000000000000000000000', 'signature': '', 'transaction_fee': 0}, {'amount': 83138000000, 'lock_time': 0, 'receiver': '0xff82ae27911d16145c73992418a56f54abc068e0', 'sender': '0x0000000000000000000000000000000000000000', 'signature': '', 'transaction_fee': 0}, {'amount': 18008000000, 'lock_time': 0, 'receiver': '0xdd0a599ce6958eedc7e5cf83b83c01c7505b11dc', 'sender': '0x0000000000000000000000000000000000000000', 'signature': '', 'transaction_fee': 0}, {'amount': 21612000000, 'lock_time': 0, 'receiver': '0xeede2404d72e2daa83a69b396a7a4896fff00f9b', 'sender': '0x0000000000000000000000000000000000000000', 'signature': '', 'transaction_fee': 0}, {'amount': 20183000000, 'lock_time': 0, 'receiver': '0x5fc9e5b0233d53f8fdf2861621faaa5899031e60', 'sender': '0x0000000000000000000000000000000000000000', 'signature': '', 'transaction_fee': 0}, {'amount': 93567000000, 'lock_time': 0, 'receiver': '0x58182049ed8fc584b5e92a689960c05bd872987c', 'sender': '0x0000000000000000000000000000000000000000', 'signature': '', 'transaction_fee': 0}, {'amount': 85640000000, 'lock_time': 0, 'receiver': '0xe4eaa073dac62754bb734d4b40a82346fcadf843', 'sender': '0x0000000000000000000000000000000000000000', 'signature': '', 'transaction_fee': 0}, {'amount': 68550000000, 'lock_time': 0, 'receiver': '0x9d74a30150157fca2f671bbd09a7d1b50f19aa56', 'sender': '0x0000000000000000000000000000000000000000', 'signature': '', 'transaction_fee': 0}, {'amount': 32084000000, 'lock_time': 0, 'receiver': '0x91e649f50ee143f8de693ca5b596110bfe8b11c9', 'sender': '0x0000000000000000000000000000000000000000', 'signature': '', 'transaction_fee': 0}, {'amount': 83102000000, 'lock_time': 0, 'receiver': '0x75af1527334d818760fe22911344ec0fc704e1a9', 'sender': '0x0000000000000000000000000000000000000000', 'signature': '', 'transaction_fee': 0}, {'amount': 83491000000, 'lock_time': 0, 'receiver': '0xf1e28645e9190fd1af1c2f80dc4cc16fb9b43434', 'sender': '0x0000000000000000000000000000000000000000', 'signature': '', 'transaction_fee': 0}, {'amount': 37201000000, 'lock_time': 0, 'receiver': '0x5a7656a1312777ed91d585da2036edf1e1d7341c', 'sender': '0x0000000000000000000000000000000000000000', 'signature': '', 'transaction_fee': 0}, {'amount': 66666000000, 'lock_time': 0, 'receiver': '0x4a4c7baf64712b4cee668736e665d302e6f3d525', 'sender': '0x0000000000000000000000000000000000000000', 'signature': '', 'transaction_fee': 0}, {'amount': 233000000, 'lock_time': 0, 'receiver': '0x056197a5efa26873f3ea812ec9d4c966bb6a1021', 'sender': '0x0000000000000000000000000000000000000000', 'signature': '', 'transaction_fee': 0}, {'amount': 94352000000, 'lock_time': 0, 'receiver': '0xc07aa5e0c0f8c9b6ae5d9d649a9ce4c15368e763', 'sender': '0x0000000000000000000000000000000000000000', 'signature': '', 'transaction_fee': 0}, {'amount': 59424000000, 'lock_time': 0, 'receiver': '0xeeff978f036922de3596dd38ba931b8eb3e8d933', 'sender': '0x0000000000000000000000000000000000000000', 'signature': '', 'transaction_fee': 0}, {'amount': 32987000000, 'lock_time': 0, 'receiver': '0x24371c0a5170ee6572332d1221f1f4a9641057e8', 'sender': '0x0000000000000000000000000000000000000000', 'signature': '', 'transaction_fee': 0}, {'amount': 53879000000, 'lock_time': 0, 'receiver': '0xc787ac082690097f299dd258b89a9a884249291a', 'sender': '0x0000000000000000000000000000000000000000', 'signature': '', 'transaction_fee': 0}, {'amount': 49244000000, 'lock_time': 0, 'receiver': '0x4e3e7c8cc16fa1d986402f3bb6710e6f75ec8a47', 'sender': '0x0000000000000000000000000000000000000000', 'signature': '', 'transaction_fee': 0}, {'amount': 18174000000, 'lock_time': 0, 'receiver': '0x1656134be34737a1cff369d9105a47398d4718fd', 'sender': '0x0000000000000000000000000000000000000000', 'signature': '', 'transaction_fee': 0}]}\n",
      "----- Transactions ---\n",
      "[{'amount': 22979000000, 'lock_time': 0, 'receiver': '0x1eb9f48d89a8c9313b6739cbe05f8c6aabae1c2a', 'sender': '0x0000000000000000000000000000000000000000', 'signature': '', 'transaction_fee': 0}, {'amount': 83138000000, 'lock_time': 0, 'receiver': '0xff82ae27911d16145c73992418a56f54abc068e0', 'sender': '0x0000000000000000000000000000000000000000', 'signature': '', 'transaction_fee': 0}, {'amount': 18008000000, 'lock_time': 0, 'receiver': '0xdd0a599ce6958eedc7e5cf83b83c01c7505b11dc', 'sender': '0x0000000000000000000000000000000000000000', 'signature': '', 'transaction_fee': 0}, {'amount': 21612000000, 'lock_time': 0, 'receiver': '0xeede2404d72e2daa83a69b396a7a4896fff00f9b', 'sender': '0x0000000000000000000000000000000000000000', 'signature': '', 'transaction_fee': 0}, {'amount': 20183000000, 'lock_time': 0, 'receiver': '0x5fc9e5b0233d53f8fdf2861621faaa5899031e60', 'sender': '0x0000000000000000000000000000000000000000', 'signature': '', 'transaction_fee': 0}, {'amount': 93567000000, 'lock_time': 0, 'receiver': '0x58182049ed8fc584b5e92a689960c05bd872987c', 'sender': '0x0000000000000000000000000000000000000000', 'signature': '', 'transaction_fee': 0}, {'amount': 85640000000, 'lock_time': 0, 'receiver': '0xe4eaa073dac62754bb734d4b40a82346fcadf843', 'sender': '0x0000000000000000000000000000000000000000', 'signature': '', 'transaction_fee': 0}, {'amount': 68550000000, 'lock_time': 0, 'receiver': '0x9d74a30150157fca2f671bbd09a7d1b50f19aa56', 'sender': '0x0000000000000000000000000000000000000000', 'signature': '', 'transaction_fee': 0}, {'amount': 32084000000, 'lock_time': 0, 'receiver': '0x91e649f50ee143f8de693ca5b596110bfe8b11c9', 'sender': '0x0000000000000000000000000000000000000000', 'signature': '', 'transaction_fee': 0}, {'amount': 83102000000, 'lock_time': 0, 'receiver': '0x75af1527334d818760fe22911344ec0fc704e1a9', 'sender': '0x0000000000000000000000000000000000000000', 'signature': '', 'transaction_fee': 0}, {'amount': 83491000000, 'lock_time': 0, 'receiver': '0xf1e28645e9190fd1af1c2f80dc4cc16fb9b43434', 'sender': '0x0000000000000000000000000000000000000000', 'signature': '', 'transaction_fee': 0}, {'amount': 37201000000, 'lock_time': 0, 'receiver': '0x5a7656a1312777ed91d585da2036edf1e1d7341c', 'sender': '0x0000000000000000000000000000000000000000', 'signature': '', 'transaction_fee': 0}, {'amount': 66666000000, 'lock_time': 0, 'receiver': '0x4a4c7baf64712b4cee668736e665d302e6f3d525', 'sender': '0x0000000000000000000000000000000000000000', 'signature': '', 'transaction_fee': 0}, {'amount': 233000000, 'lock_time': 0, 'receiver': '0x056197a5efa26873f3ea812ec9d4c966bb6a1021', 'sender': '0x0000000000000000000000000000000000000000', 'signature': '', 'transaction_fee': 0}, {'amount': 94352000000, 'lock_time': 0, 'receiver': '0xc07aa5e0c0f8c9b6ae5d9d649a9ce4c15368e763', 'sender': '0x0000000000000000000000000000000000000000', 'signature': '', 'transaction_fee': 0}, {'amount': 59424000000, 'lock_time': 0, 'receiver': '0xeeff978f036922de3596dd38ba931b8eb3e8d933', 'sender': '0x0000000000000000000000000000000000000000', 'signature': '', 'transaction_fee': 0}, {'amount': 32987000000, 'lock_time': 0, 'receiver': '0x24371c0a5170ee6572332d1221f1f4a9641057e8', 'sender': '0x0000000000000000000000000000000000000000', 'signature': '', 'transaction_fee': 0}, {'amount': 53879000000, 'lock_time': 0, 'receiver': '0xc787ac082690097f299dd258b89a9a884249291a', 'sender': '0x0000000000000000000000000000000000000000', 'signature': '', 'transaction_fee': 0}, {'amount': 49244000000, 'lock_time': 0, 'receiver': '0x4e3e7c8cc16fa1d986402f3bb6710e6f75ec8a47', 'sender': '0x0000000000000000000000000000000000000000', 'signature': '', 'transaction_fee': 0}, {'amount': 18174000000, 'lock_time': 0, 'receiver': '0x1656134be34737a1cff369d9105a47398d4718fd', 'sender': '0x0000000000000000000000000000000000000000', 'signature': '', 'transaction_fee': 0}]\n"
     ]
    }
   ],
   "execution_count": 4
  },
  {
   "cell_type": "code",
   "id": "5e1eb856a5156c17",
   "metadata": {
    "ExecuteTime": {
     "end_time": "2024-10-19T16:34:07.273499Z",
     "start_time": "2024-10-19T16:34:07.267961Z"
    }
   },
   "source": [
    "latest_block = blocks[-1]\n",
    "latest_block_hash = latest_block[\"header\"][\"hash\"]\n",
    "print(f'Latest hash : {latest_block_hash}')\n",
    "latest_block_time = latest_block[\"header\"][\"timestamp\"]\n",
    "print(f'Latest time : {latest_block_time}')\n",
    "new_block_time = latest_block_time +10\n"
   ],
   "outputs": [
    {
     "name": "stdout",
     "output_type": "stream",
     "text": [
      "Latest hash : 0x000a3698e344f2549cb88537e129a37ac78e195c08006486f928cc465bcc0550\n",
      "Latest time : 1697413800\n"
     ]
    }
   ],
   "execution_count": 121
  },
  {
   "cell_type": "markdown",
   "id": "c65239ba7bcaab05",
   "metadata": {},
   "source": [
    "Now we need to extract all the transactions in the mempool that have a timelock less than the new block\n"
   ]
  },
  {
   "cell_type": "code",
   "id": "d4e53d22cbb8e373",
   "metadata": {
    "ExecuteTime": {
     "end_time": "2024-10-19T15:07:35.572136Z",
     "start_time": "2024-10-19T15:07:35.533725Z"
    }
   },
   "source": [
    "with open(\"data/mempool.json\") as file:\n",
    "    mempool_transactions : List [Transaction] = json.load(file)"
   ],
   "outputs": [],
   "execution_count": 48
  },
  {
   "metadata": {
    "ExecuteTime": {
     "end_time": "2024-10-19T15:12:35.963019Z",
     "start_time": "2024-10-19T15:12:35.958470Z"
    }
   },
   "cell_type": "code",
   "source": "from collections import deque",
   "id": "d1bacd92e499ddda",
   "outputs": [],
   "execution_count": 51
  },
  {
   "metadata": {
    "ExecuteTime": {
     "end_time": "2024-10-19T16:37:23.869442Z",
     "start_time": "2024-10-19T16:37:23.863759Z"
    }
   },
   "cell_type": "code",
   "source": [
    "from hashlib import sha256\n",
    "def get_hash(val : str):\n",
    "    return f'0x{sha256(val.encode()).hexdigest()}'"
   ],
   "id": "8ac0b3fd8f929d46",
   "outputs": [],
   "execution_count": 123
  },
  {
   "metadata": {},
   "cell_type": "markdown",
   "source": "1a) Find the set of executable transactions",
   "id": "790e6c0bee419312"
  },
  {
   "metadata": {
    "ExecuteTime": {
     "end_time": "2024-10-19T16:37:37.442720Z",
     "start_time": "2024-10-19T16:37:37.433436Z"
    }
   },
   "cell_type": "code",
   "source": [
    "\n",
    "potential_transactions = []\n",
    "for transaction in mempool_transactions: \n",
    "    if transaction[\"lock_time\"] <= new_block_time:\n",
    "        potential_transactions.append(transaction)\n",
    "potential_transactions.sort(key= lambda x : x[\"transaction_fee\"],reverse=True)\n",
    "if len(potential_transactions)>100:\n",
    "    potential_transactions = potential_transactions[:100]\n",
    "potential_transactions= [{k: v for k, v in sorted(d.items())} for d in potential_transactions]"
   ],
   "id": "64d9612a2cd46b96",
   "outputs": [],
   "execution_count": 125
  },
  {
   "metadata": {},
   "cell_type": "markdown",
   "source": "1b) Get the merkel root",
   "id": "a74ba86b8116babb"
  },
  {
   "metadata": {
    "ExecuteTime": {
     "end_time": "2024-10-19T17:27:12.079662Z",
     "start_time": "2024-10-19T17:27:12.069388Z"
    }
   },
   "cell_type": "code",
   "source": [
    "transaction_hashes = deque()\n",
    "for potential_transaction in potential_transactions:\n",
    "    transaction_hashes.append(get_hash((\",\".join(str(val) for val in potential_transaction.values()))))\n",
    "null_hash = '0x' + 64*'0'\n",
    "if len(transaction_hashes)==1:\n",
    "    merkel_hash = get_hash(null_hash+transaction_hashes[0])\n",
    "else:\n",
    "    while len(transaction_hashes)!=1:\n",
    "        current_length = len(transaction_hashes)\n",
    "        is_odd = current_length %2 == 1\n",
    "        for i in range(0,current_length,2):\n",
    "            if is_odd and i == (current_length - 1):\n",
    "                transaction_hashes.append(get_hash(null_hash + transaction_hashes.popleft()))\n",
    "            else:\n",
    "                a , b = transaction_hashes.popleft() , transaction_hashes.popleft()\n",
    "                if b < a:\n",
    "                    b , a = a , b\n",
    "                transaction_hashes.append(get_hash(a+b))\n",
    "    merkel_hash = transaction_hashes[0]\n",
    "print(merkel_hash)"
   ],
   "id": "7c16a7d5e695a16c",
   "outputs": [],
   "execution_count": null
  },
  {
   "metadata": {},
   "cell_type": "markdown",
   "source": "Here we create the potential new block , we still need to adjust the hash and nonce",
   "id": "3245e621fb806751"
  },
  {
   "metadata": {
    "ExecuteTime": {
     "end_time": "2024-10-19T17:50:44.013998Z",
     "start_time": "2024-10-19T17:50:44.011547Z"
    }
   },
   "cell_type": "code",
   "source": [
    "\n",
    "new_block_header : BlockHeader = {\n",
    "    \"difficulty\": min(((latest_block[\"header\"][\"height\"] +1 )//50),6) ,\n",
    "    \"height\": latest_block[\"header\"][\"height\"]+1,\n",
    "    \"miner\": \"0x000a89667abeb2e87a42c724757ceee4cdc46eaa\",\n",
    "    \"nonce\": 0,\n",
    "    \"hash\": \"initial hash\",\n",
    "    \"previous_block_header_hash\": latest_block[\"header\"][\"hash\"],\n",
    "    \"timestamp\": latest_block[\"header\"][\"timestamp\"]+10,\n",
    "    \"transactions_count\": len(potential_transactions),\n",
    "    \"transactions_merkle_root\": merkel_hash\n",
    "}\n",
    "new_block_transactions : List[Transaction] = potential_transactions"
   ],
   "id": "29cf20dd0f8d9fb3",
   "outputs": [],
   "execution_count": 145
  },
  {
   "metadata": {
    "ExecuteTime": {
     "end_time": "2024-10-19T18:14:45.246827Z",
     "start_time": "2024-10-19T18:14:45.177171Z"
    }
   },
   "cell_type": "code",
   "source": [
    "def hash_block_header(block_header : BlockHeader):\n",
    "    temp_block_header =dict(sorted(block_header.items()))\n",
    "    del temp_block_header[\"hash\"]\n",
    "    return get_hash(\",\".join(str(val) for val in temp_block_header.values()))\n",
    "while hash_block_header(new_block_header)[2:2+new_block_header[\"difficulty\"]]!=\"0\"* new_block_header[\"difficulty\"]:\n",
    "    new_block_header[\"nonce\"]+=1\n",
    "new_block_header[\"hash\"] = hash_block_header(new_block_header)\n",
    "new_block : Block = {\"header\":new_block_header,\"transactions\":new_block_transactions}\n",
    "blocks.append(new_block)\n",
    "with open(\"data/new_blockchain.json\", \"w\") as file:\n",
    "    json.dump(blocks, file, indent=4)\n"
   ],
   "id": "f4a2b3c0f114e632",
   "outputs": [],
   "execution_count": 156
  }
 ],
 "metadata": {
  "kernelspec": {
   "display_name": "Python 3 (ipykernel)",
   "language": "python",
   "name": "python3"
  },
  "language_info": {
   "codemirror_mode": {
    "name": "ipython",
    "version": 3
   },
   "file_extension": ".py",
   "mimetype": "text/x-python",
   "name": "python",
   "nbconvert_exporter": "python",
   "pygments_lexer": "ipython3",
   "version": "3.10.0"
  }
 },
 "nbformat": 4,
 "nbformat_minor": 5
}
